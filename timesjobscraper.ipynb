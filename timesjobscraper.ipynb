{
 "cells": [
  {
   "cell_type": "code",
   "execution_count": 1,
   "metadata": {},
   "outputs": [],
   "source": [
    "from bs4 import BeautifulSoup\n",
    "import requests\n",
    "import time"
   ]
  },
  {
   "cell_type": "code",
   "execution_count": 4,
   "metadata": {},
   "outputs": [],
   "source": [
    "def find_jobs():\n",
    "    html_text=requests.get('https://www.timesjobs.com/candidate/job-search.html?searchType=personalizedSearch&from=submit&txtKeywords=python&txtLocation=').text\n",
    "\n",
    "    soup=BeautifulSoup(html_text,'lxml')\n",
    "    jobs=soup.find_all('li', class_ = 'clearfix job-bx wht-shd-bx')\n",
    "\n",
    "    print('Give some unfamiliar skills.')\n",
    "    unfamiliar_skills=[item for item in input('>').split(',')] \n",
    "    print(f'Filtering out {unfamiliar_skills}')\n",
    "\n",
    "    for index, job in enumerate(jobs):\n",
    "        published_date=job.find('span', class_ = 'sim-posted').span.text\n",
    "        if 'few' in published_date:\n",
    "            company_name=job.find('h3', class_ = 'joblist-comp-name').text.replace(' ','')\n",
    "            skills=job.find('span', class_ = 'srp-skills').text.replace(' ','')\n",
    "            more_info=job.header.h2.a['href']\n",
    "\n",
    "            \"\"\"print(f'''\n",
    "            Company Name: {company_name}\n",
    "            Skills: {skills}\n",
    "            ''')\"\"\"\n",
    "            if all(skill not in skills for skill in unfamiliar_skills):\n",
    "                with open(f'jobs/{index}.txt','w') as f:\n",
    "                    f.write(f'Company name: {company_name.strip()}\\n')\n",
    "                    f.write(f'Skills: {skills.strip()}\\n')\n",
    "                    f.write(f'More info: {more_info}')\n",
    "                print(f'File saved: {index}')"
   ]
  },
  {
   "cell_type": "code",
   "execution_count": null,
   "metadata": {},
   "outputs": [
    {
     "name": "stdout",
     "output_type": "stream",
     "text": [
      "Give some unfamiliar skills.\n",
      ">django, linux\n",
      "Filtering out ['django', ' linux']\n",
      "File saved: 0\n",
      "File saved: 3\n",
      "File saved: 4\n",
      "File saved: 5\n",
      "File saved: 6\n",
      "File saved: 14\n",
      "File saved: 16\n",
      "Waiting 10 minutes...\n"
     ]
    }
   ],
   "source": [
    "if __name__ == '__main__':\n",
    "    while True:\n",
    "        find_jobs()\n",
    "        time_wait = 10\n",
    "        print(f'Waiting {time_wait} minutes...')\n",
    "        time.sleep(time_wait*60)"
   ]
  },
  {
   "cell_type": "code",
   "execution_count": null,
   "metadata": {},
   "outputs": [],
   "source": []
  }
 ],
 "metadata": {
  "kernelspec": {
   "display_name": "Python 3",
   "language": "python",
   "name": "python3"
  },
  "language_info": {
   "codemirror_mode": {
    "name": "ipython",
    "version": 3
   },
   "file_extension": ".py",
   "mimetype": "text/x-python",
   "name": "python",
   "nbconvert_exporter": "python",
   "pygments_lexer": "ipython3",
   "version": "3.7.4"
  }
 },
 "nbformat": 4,
 "nbformat_minor": 2
}
